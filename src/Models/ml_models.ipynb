{
 "cells": [
  {
   "cell_type": "code",
   "execution_count": 1,
   "metadata": {},
   "outputs": [
    {
     "name": "stderr",
     "output_type": "stream",
     "text": [
      "/home/mert/.local/lib/python3.10/site-packages/pandas/core/computation/expressions.py:21: UserWarning: Pandas requires version '2.8.4' or newer of 'numexpr' (version '2.8.1' currently installed).\n",
      "  from pandas.core.computation.check import NUMEXPR_INSTALLED\n",
      "/home/mert/.local/lib/python3.10/site-packages/pandas/core/arrays/masked.py:60: UserWarning: Pandas requires version '1.3.6' or newer of 'bottleneck' (version '1.3.2' currently installed).\n",
      "  from pandas.core import (\n",
      "/home/mert/.local/lib/python3.10/site-packages/scipy/__init__.py:146: UserWarning: A NumPy version >=1.16.5 and <1.23.0 is required for this version of SciPy (detected version 1.26.3\n",
      "  warnings.warn(f\"A NumPy version >={np_minversion} and <{np_maxversion}\"\n"
     ]
    }
   ],
   "source": [
    "import pandas as pd\n",
    "import numpy as np\n",
    "import matplotlib.pyplot as plt\n",
    "from sklearn.model_selection import train_test_split\n",
    "from sklearn.linear_model import LinearRegression\n",
    "from sklearn.metrics import mean_squared_error, mean_absolute_percentage_error"
   ]
  },
  {
   "cell_type": "code",
   "execution_count": 2,
   "metadata": {},
   "outputs": [],
   "source": [
    "data = pd.read_csv(\"/home/mert/Desktop/MLOPS/bitcoin-forecast/data/external/btc_usd_features.csv\")\n",
    "data = data.drop(['date'], axis=1)\n",
    "y = data['btc_vwap'].copy()\n",
    "X = data.drop(['btc_vwap'], axis=1)"
   ]
  },
  {
   "cell_type": "code",
   "execution_count": 3,
   "metadata": {},
   "outputs": [],
   "source": [
    "rmse = dict\n",
    "mape = dict"
   ]
  },
  {
   "cell_type": "code",
   "execution_count": 4,
   "metadata": {},
   "outputs": [],
   "source": [
    "X_train, X_test, y_train, y_test = train_test_split(X, y, random_state=42, test_size=0.2)"
   ]
  },
  {
   "cell_type": "markdown",
   "metadata": {},
   "source": [
    "### Linear Regression"
   ]
  },
  {
   "cell_type": "code",
   "execution_count": 5,
   "metadata": {},
   "outputs": [
    {
     "name": "stdout",
     "output_type": "stream",
     "text": [
      "RMSE: 0.022214720193501947\n",
      "RMSE: 0.3124263560200987\n"
     ]
    }
   ],
   "source": [
    "linReg = LinearRegression().fit(X_train,y_train)\n",
    "\n",
    "y_pred_train = linReg.predict(X_train)\n",
    "y_pred_test = linReg.predict(X_test)\n",
    "\n",
    "# caculation of metrics\n",
    "rmse = np.sqrt(mean_squared_error(y_test, y_pred_test))\n",
    "mape = np.sqrt(mean_absolute_percentage_error(y_test, y_pred_test))\n",
    "\n",
    "print(\"RMSE:\", rmse)\n",
    "print(\"MAPE:\", mape)"
   ]
  },
  {
   "cell_type": "markdown",
   "metadata": {},
   "source": [
    "### SVR"
   ]
  },
  {
   "cell_type": "code",
   "execution_count": 9,
   "metadata": {},
   "outputs": [
    {
     "name": "stdout",
     "output_type": "stream",
     "text": [
      "En iyi parametreler: {'C': 5, 'epsilon': 0.01, 'kernel': 'rbf'}\n",
      "En iyi skor (negatif RMSE): -0.0022230121486250974\n",
      "SVR ile RMSE: 0.02355165586510626\n",
      "SVR ile MAPE: 0.3124263560200987\n"
     ]
    }
   ],
   "source": [
    "from sklearn.model_selection import GridSearchCV\n",
    "from sklearn.svm import SVR\n",
    "\n",
    "# SVR modelini oluşturun\n",
    "svr = SVR()\n",
    "\n",
    "# Grid Search için denenecek parametre aralıklarını belirtin\n",
    "param_grid = {\n",
    "    'C': [0.1, 1, 10, 100],\n",
    "    'epsilon': [0.01, 0.1, 0.5, 1.0],\n",
    "    'kernel': ['linear', 'rbf', 'poly']\n",
    "}\n",
    "\n",
    "# Grid Search modelini oluşturun\n",
    "grid_search = GridSearchCV(svr, param_grid, cv=5, scoring='neg_mean_squared_error')\n",
    "\n",
    "# Grid Search'i eğitin\n",
    "grid_search.fit(X_train, y_train)\n",
    "\n",
    "# En iyi parametreleri ve skorları alın\n",
    "best_params = grid_search.best_params_\n",
    "best_score = grid_search.best_score_\n",
    "\n",
    "# En iyi modeli alın\n",
    "best_svr = grid_search.best_estimator_\n",
    "\n",
    "# En iyi modeli kullanarak tahmin yapın\n",
    "y_pred_test_svr = best_svr.predict(X_test)\n",
    "\n",
    "# RMSE hesapla\n",
    "rmse_svr = np.sqrt(mean_squared_error(y_test, y_pred_test_svr))\n",
    "mape = np.sqrt(mean_absolute_percentage_error(y_test, y_pred_test))\n",
    "\n",
    "# Sonuçları yazdır\n",
    "print(\"En iyi parametreler:\", best_params)\n",
    "print(\"En iyi skor (negatif RMSE):\", best_score)\n",
    "print(\"SVR ile RMSE:\", rmse_svr)\n",
    "print(\"SVR ile MAPE:\", mape)"
   ]
  },
  {
   "cell_type": "code",
   "execution_count": null,
   "metadata": {},
   "outputs": [],
   "source": []
  }
 ],
 "metadata": {
  "kernelspec": {
   "display_name": "Python 3",
   "language": "python",
   "name": "python3"
  },
  "language_info": {
   "codemirror_mode": {
    "name": "ipython",
    "version": 3
   },
   "file_extension": ".py",
   "mimetype": "text/x-python",
   "name": "python",
   "nbconvert_exporter": "python",
   "pygments_lexer": "ipython3",
   "version": "3.10.12"
  }
 },
 "nbformat": 4,
 "nbformat_minor": 2
}
