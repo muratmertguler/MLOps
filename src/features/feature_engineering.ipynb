{
 "cells": [
  {
   "cell_type": "code",
   "execution_count": 71,
   "metadata": {},
   "outputs": [],
   "source": [
    "import pandas as pd\n",
    "import numpy as np\n",
    "from sklearn.preprocessing import StandardScaler"
   ]
  },
  {
   "cell_type": "code",
   "execution_count": 72,
   "metadata": {},
   "outputs": [],
   "source": [
    "data = pd.read_csv(\"/home/mert/Desktop/MLOPS/bitcoin-forecast/data/raw/btc_usd.csv\")"
   ]
  },
  {
   "cell_type": "code",
   "execution_count": 73,
   "metadata": {},
   "outputs": [],
   "source": [
    "# standartScaler \n",
    "data_scalering = data.drop(['btc_timestamp'], axis=1).copy()\n",
    "data_scalering = data_scalering.astype(np.float64)\n",
    "scaler = StandardScaler()\n",
    "scaled_data = scaler.fit_transform(data_scalering)\n",
    "scaled_data = pd.DataFrame(scaled_data, columns=data_scalering.columns)\n",
    "scaled_data['btc_timestamp'] = data['btc_timestamp'].copy()\n",
    "data = scaled_data.copy()\n",
    "\n",
    "data['Datetime']   = pd.to_datetime(data['btc_timestamp']) #Replace 'time' with your actual datetime column name\n",
    "data['year']       = data['Datetime'].dt.year\n",
    "data['month']      = data['Datetime'].dt.month\n",
    "data['dayofmonth'] = data['Datetime'].dt.day\n",
    "data['dayofyear']  = data['Datetime'].dt.dayofyear\n",
    "data['weekday']    = data['Datetime'].dt.weekday\n",
    "data['date']       = data['Datetime'].dt.date\n",
    "data['wntr_month'] = data['month'].apply(lambda x:1 if x in [11, 12, 1, 2] else 0)\n",
    "data['month_label']= data['month'].map(lambda x:1 if x in [11, 12, 1, 2, 3] else (2 if x in [6, 7, 8, 9] else 3))\n",
    "data['quarter']    = data['month'].map(lambda x:1 if x in [1, 2, 3] else (2 if x in [4, 5, 6] else (3 if x in [7, 8, 9] else 4)))\n",
    "data['season']     = data['month'].map(lambda x:1 if x in [12, 1, 2] else (2 if x in [3, 4, 5] else (3 if x in [6, 7, 8] else 4)))\n",
    "data['days']       = data['dayofmonth'].map(lambda x:1 if x < 5 else 0)\n",
    "data[\"rolling_30\"] = data['btc_vwap'].rolling(window=30).mean()\n",
    "\n",
    "lag_periods = [1, 3, 5, 15,45, 60, 90]\n",
    "\n",
    "for lag in lag_periods:\n",
    "    data[f'btc_vwap_lag_{lag}'] = data['btc_vwap'].shift(lag)\n",
    "\n",
    "        \n",
    "# Drop rows with NaN values (resulting from shifting)\n",
    "data.dropna(inplace=True)\n",
    "data = data.drop(\"btc_timestamp\", axis=1)\n",
    "data.set_index('Datetime', inplace=True)\n",
    "data = data.sort_index()\n",
    "data = data.iloc[:-1]\n",
    "\n",
    "\n",
    "# Encode cyclical features\n",
    "def encode(data, col, max_val):\n",
    "    data[col + '_sin'] = np.sin(2 * np.pi * data[col] / max_val)\n",
    "    data[col + '_cos'] = np.cos(2 * np.pi * data[col] / max_val)\n",
    "    return data\n",
    "\n",
    "data = encode(data, 'dayofyear', 365)\n",
    "data = encode(data, 'weekday', 52)\n",
    "data = encode(data, 'month', 12)\n",
    "\n",
    "data.to_csv(\"/home/mert/Desktop/MLOPS/bitcoin-forecast/data/external/btc_usd_features.csv\", index=False)"
   ]
  }
 ],
 "metadata": {
  "kernelspec": {
   "display_name": "Python 3",
   "language": "python",
   "name": "python3"
  },
  "language_info": {
   "codemirror_mode": {
    "name": "ipython",
    "version": 3
   },
   "file_extension": ".py",
   "mimetype": "text/x-python",
   "name": "python",
   "nbconvert_exporter": "python",
   "pygments_lexer": "ipython3",
   "version": "3.10.12"
  }
 },
 "nbformat": 4,
 "nbformat_minor": 2
}
